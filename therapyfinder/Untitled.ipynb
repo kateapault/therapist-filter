{
 "cells": [
  {
   "cell_type": "code",
   "execution_count": 2,
   "metadata": {},
   "outputs": [],
   "source": [
    "from bs4 import BeautifulSoup\n",
    "import requests"
   ]
  },
  {
   "cell_type": "code",
   "execution_count": 4,
   "metadata": {},
   "outputs": [],
   "source": [
    "#def getPsychData(city, state):\n",
    "\n",
    "state = 'NY'\n",
    "city = 'Brooklyn'\n",
    "\n",
    "url = 'https://www.psychologytoday.com/us/therapists/' + state.lower() + '/' + city.lower()\n",
    "# header added after running requests.get(url) by itself returned a 403 status code\n",
    "headers = {'User-Agent': 'Mozilla/5.0 (Macintosh; Intel Mac OS X 10_14_3) AppleWebKit/605.1.15 (KHTML, like Gecko) Version/12.0.3 Safari/605.1.15'}\n",
    "mainpagehtml = requests.get(url,headers=headers)"
   ]
  },
  {
   "cell_type": "code",
   "execution_count": 7,
   "metadata": {},
   "outputs": [],
   "source": [
    "# turn html into BeautifulSoup object\n",
    "soup = BeautifulSoup(mainpagehtml.content,'html.parser')\n",
    "mainpage = soup.body\n",
    "\n",
    "# site uses this div class for therapist listings in results. ResultSet object.\n",
    "therapist_results = soup.find_all('div',{'class': 'result-row normal-result row'})"
   ]
  },
  {
   "cell_type": "code",
   "execution_count": 30,
   "metadata": {},
   "outputs": [
    {
     "data": {
      "text/plain": [
       "[{'name': 'Donna Serrant',\n",
       "  'jobTitle': 'Clinical Social Work/Therapist',\n",
       "  'addressLocality': 'Brooklyn,',\n",
       "  'addressRegion': 'New York',\n",
       "  'postalCode': '11242'},\n",
       " {'name': 'Jennifer Coonce',\n",
       "  'jobTitle': 'Licensed Psychoanalyst',\n",
       "  'addressLocality': 'Brooklyn,',\n",
       "  'addressRegion': 'New York',\n",
       "  'postalCode': '11201'},\n",
       " {'name': 'Dr. Amy Wicker Couples Counseling',\n",
       "  'jobTitle': 'Psychologist',\n",
       "  'addressLocality': 'Brooklyn,',\n",
       "  'addressRegion': 'New York',\n",
       "  'postalCode': '11242'},\n",
       " {'name': 'Jenny Marion',\n",
       "  'jobTitle': 'Psychologist',\n",
       "  'addressLocality': 'Brooklyn,',\n",
       "  'addressRegion': 'New York',\n",
       "  'postalCode': '11217'},\n",
       " {'name': 'Karalyn J Violeta',\n",
       "  'jobTitle': 'Clinical Social Work/Therapist',\n",
       "  'addressLocality': 'Brooklyn,',\n",
       "  'addressRegion': 'New York',\n",
       "  'postalCode': '11215'},\n",
       " {'name': 'Millennial Love LLC',\n",
       "  'addressLocality': 'Brooklyn,',\n",
       "  'addressRegion': 'New York',\n",
       "  'postalCode': '11211'},\n",
       " {'name': 'Crystal DeBoise',\n",
       "  'jobTitle': 'Clinical Social Work/Therapist',\n",
       "  'addressLocality': 'Brooklyn,',\n",
       "  'addressRegion': 'New York',\n",
       "  'postalCode': '11201'},\n",
       " {'name': 'Sisy Alejandra Valdiviezo',\n",
       "  'jobTitle': 'Clinical Social Work/Therapist',\n",
       "  'addressLocality': 'Brooklyn,',\n",
       "  'addressRegion': 'New York',\n",
       "  'postalCode': '11222'},\n",
       " {'name': 'Omari Williams',\n",
       "  'addressLocality': 'Brooklyn,',\n",
       "  'addressRegion': 'New York',\n",
       "  'postalCode': '11201'},\n",
       " {'name': 'Karen Singleton',\n",
       "  'jobTitle': 'Clinical Social Work/Therapist',\n",
       "  'addressLocality': 'Brooklyn,',\n",
       "  'addressRegion': 'New York',\n",
       "  'postalCode': '11201'},\n",
       " {'name': 'El Sol LCSW Services, PLLC',\n",
       "  'addressLocality': 'Brooklyn,',\n",
       "  'addressRegion': 'New York',\n",
       "  'postalCode': '11237'},\n",
       " {'name': 'Adrienne Todd',\n",
       "  'jobTitle': 'Psychologist',\n",
       "  'addressLocality': 'Brooklyn,',\n",
       "  'addressRegion': 'New York',\n",
       "  'postalCode': '11242'},\n",
       " {'name': 'The Brooks Counseling Group',\n",
       "  'addressLocality': 'Brooklyn,',\n",
       "  'addressRegion': 'New York',\n",
       "  'postalCode': '11201'},\n",
       " {'name': 'Rachel Schiller',\n",
       "  'jobTitle': 'Clinical Social Work/Therapist',\n",
       "  'addressLocality': 'Brooklyn,',\n",
       "  'addressRegion': 'New York',\n",
       "  'postalCode': '11242'},\n",
       " {'name': 'Kristina Colovic',\n",
       "  'addressLocality': 'Brooklyn,',\n",
       "  'addressRegion': 'New York',\n",
       "  'postalCode': '11222'},\n",
       " {'name': 'Christine Piatek',\n",
       "  'jobTitle': 'Clinical Social Work/Therapist',\n",
       "  'addressLocality': 'Brooklyn,',\n",
       "  'addressRegion': 'New York',\n",
       "  'postalCode': '11215'},\n",
       " {'name': 'N. G. Berrill',\n",
       "  'jobTitle': 'Psychologist',\n",
       "  'addressLocality': 'Brooklyn,',\n",
       "  'addressRegion': 'New York',\n",
       "  'postalCode': '11242'},\n",
       " {'name': 'Jen Wittlin',\n",
       "  'jobTitle': 'Clinical Social Work/Therapist',\n",
       "  'addressLocality': 'Brooklyn,',\n",
       "  'addressRegion': 'New York',\n",
       "  'postalCode': '11215'},\n",
       " {'name': 'Jennifer Lefever',\n",
       "  'jobTitle': 'Clinical Social Work/Therapist',\n",
       "  'addressLocality': 'Brooklyn,',\n",
       "  'addressRegion': 'New York',\n",
       "  'postalCode': '11215'},\n",
       " {'name': 'Rose Latino',\n",
       "  'jobTitle': 'Clinical Social Work/Therapist',\n",
       "  'addressLocality': 'Brooklyn,',\n",
       "  'addressRegion': 'New York',\n",
       "  'postalCode': '11242'}]"
      ]
     },
     "execution_count": 30,
     "metadata": {},
     "output_type": "execute_result"
    }
   ],
   "source": [
    "# therapist info is in span tags; itemprop attribute gives label for info (eg job title, etc)\n",
    "spans = therapist_results[0].find_all('span')\n",
    "spanitemprops = []\n",
    "for span in spans:\n",
    "    if span.get('itemprop'): spanitemprops.append(span.get('itemprop'))\n",
    "\n",
    "therapists = []\n",
    "for i in range(0,len(therapist_results)):\n",
    "    propertieslist = therapist_results[i]('span',{'itemprop':spanitemprops})\n",
    "    therapist_info = {}\n",
    "    for prop in propertieslist:\n",
    "        if prop.get_text(): \n",
    "# lots of buttons/subtags that have '\\n\\n\\n' as get_text(), some itemprop attributes (eg city) repeat within listings\n",
    "            if '\\n' in prop.get_text(): pass\n",
    "            elif prop.get('itemprop') in therapist_info.keys(): pass\n",
    "            else: therapist_info[prop.get('itemprop')] = prop.get_text()\n",
    "    therapists.append(therapist_info)\n",
    "therapists"
   ]
  },
  {
   "cell_type": "code",
   "execution_count": 33,
   "metadata": {},
   "outputs": [
    {
     "name": "stdout",
     "output_type": "stream",
     "text": [
      "<class 'bool'>\n",
      "<class 'NoneType'>\n"
     ]
    }
   ],
   "source": [
    "print(type(False))\n",
    "print(type(None))"
   ]
  },
  {
   "cell_type": "code",
   "execution_count": null,
   "metadata": {},
   "outputs": [],
   "source": []
  }
 ],
 "metadata": {
  "kernelspec": {
   "display_name": "Python 3",
   "language": "python",
   "name": "python3"
  },
  "language_info": {
   "codemirror_mode": {
    "name": "ipython",
    "version": 3
   },
   "file_extension": ".py",
   "mimetype": "text/x-python",
   "name": "python",
   "nbconvert_exporter": "python",
   "pygments_lexer": "ipython3",
   "version": "3.7.2"
  }
 },
 "nbformat": 4,
 "nbformat_minor": 2
}
